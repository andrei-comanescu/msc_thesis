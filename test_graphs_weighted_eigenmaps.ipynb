{
 "cells": [
  {
   "cell_type": "code",
   "execution_count": 1,
   "metadata": {},
   "outputs": [],
   "source": [
    "import os\n",
    "import numpy as np\n",
    "import pandas as pd\n",
    "import networkx as nx\n",
    "import pickle as pkl\n",
    "\n",
    "import matplotlib.pyplot as plt\n",
    "from scipy.sparse.linalg import eigsh\n",
    "\n",
    "from scipy.spatial.distance import pdist\n",
    "from scipy.spatial.distance import cdist"
   ]
  },
  {
   "cell_type": "markdown",
   "metadata": {},
   "source": [
    "## Calculate distances for balanced clusters"
   ]
  },
  {
   "cell_type": "code",
   "execution_count": 254,
   "metadata": {},
   "outputs": [
    {
     "name": "stdout",
     "output_type": "stream",
     "text": [
      "Run no. 0\n",
      "Run no. 1\n",
      "Run no. 2\n",
      "Run no. 3\n",
      "Run no. 4\n",
      "Run no. 5\n",
      "Run no. 6\n",
      "Run no. 7\n",
      "Run no. 8\n",
      "Run no. 9\n"
     ]
    }
   ],
   "source": [
    "nodes_in_cluster       = 1000\n",
    "\n",
    "# range between 0 and 10\n",
    "nodes_generation_lim   = 150\n",
    "\n",
    "# range between 0 and 3\n",
    "between_generation_lim = 30\n",
    "\n",
    "max_weight = 20\n",
    "\n",
    "# percent of nodes that are dummies\n",
    "\n",
    "p_s = [0.0, 0.99, 0.95, 0.90, 0.00, 0.00, 0.00]\n",
    "p_d = [0.0, 0.99, 0.95, 0.90, 0.00, 0.00, 0.00]\n",
    "p_b = [0.0, 0.00, 0.00, 0.00, 0.99, 0.95, 0.90]\n",
    "\n",
    "p_between  = []\n",
    "p_cluster1 = []\n",
    "p_cluster2 = []\n",
    "\n",
    "no_runs = 10\n",
    "# run it multiple times and average the data\n",
    "for _r in range(0, no_runs):\n",
    "    print(\"Run no. {}\".format(_r))\n",
    "\n",
    "    k_between  = []\n",
    "    k_cluster1 = []\n",
    "    k_cluster2 = []\n",
    "    # in cluster nodes\n",
    "    # cluster 1\n",
    "    src = []\n",
    "    dst = []   \n",
    "    for i in range(0, nodes_in_cluster):\n",
    "        entries = np.random.choice(np.array(range(0, nodes_generation_lim + 1)), size = 1)[0]\n",
    "        dsts    = np.random.choice(np.delete(np.array(range(0, nodes_in_cluster)), i, None), size = entries, replace = False)\n",
    "        for d in dsts:\n",
    "            src.append(i)\n",
    "            dst.append(d)\n",
    "\n",
    "    # get proc_src% of the nodes as actual nodes, the rest are dummies\n",
    "    df_source           = pd.DataFrame(list(zip(src, dst)), columns = [\"src\", \"dst\"])\n",
    "    df_source['weight'] = 1\n",
    "\n",
    "    swap_cond = df_source.src > df_source.dst\n",
    "    df_source.loc[swap_cond, ['src', 'dst']] = df_source.loc[swap_cond, ['dst', 'src']].values\n",
    "    df_source = df_source.groupby([df_source['src'], df_source['dst']], as_index = False).aggregate('sum')\n",
    "    df_source['weight'] = 0.1\n",
    "\n",
    "    for _i in df_source.index:\n",
    "        df_source.loc[_i, 'weight'] += np.random.choice(np.array(range(1, max_weight + 1)), size = 1)[0]\n",
    "\n",
    "    # cluster 2\n",
    "    src = []\n",
    "    dst = []\n",
    "    for j in range(nodes_in_cluster, nodes_in_cluster * 2):\n",
    "        entries = np.random.choice(np.array(range(0, nodes_generation_lim + 1)), size = 1)[0]\n",
    "        dsts    = np.random.choice(np.delete(np.array(range(nodes_in_cluster, nodes_in_cluster * 2)), j - nodes_in_cluster, None), size = entries, replace = False)\n",
    "        for d in dsts:\n",
    "            src.append(j)\n",
    "            dst.append(d)\n",
    "\n",
    "    df_destination = pd.DataFrame(list(zip(src, dst)), columns = [\"src\", \"dst\"])\n",
    "    df_destination['weight'] = 1\n",
    "\n",
    "    swap_cond = df_destination.src > df_destination.dst\n",
    "    df_destination.loc[swap_cond, ['src', 'dst']] = df_destination.loc[swap_cond, ['dst', 'src']].values\n",
    "    df_destination = df_destination.groupby([df_destination['src'], df_destination['dst']], as_index = False).aggregate('sum')\n",
    "    df_destination['weight'] = 0.1\n",
    "\n",
    "    for _i in df_destination.index:\n",
    "        df_destination.loc[_i, 'weight'] += np.random.choice(np.array(range(1, max_weight + 1)), size = 1)[0]    \n",
    "\n",
    "    # in between cluster edges\n",
    "    src = []\n",
    "    dst = []\n",
    "\n",
    "    src_nodes = list(np.unique(df_source['src']))\n",
    "    src_nodes.extend(list(np.unique(df_source['dst'])))\n",
    "\n",
    "    dst_nodes = list(np.unique(df_destination['src']))\n",
    "    dst_nodes.extend(list(np.unique(df_destination['dst'])))\n",
    "\n",
    "    for _src in np.unique(src_nodes):\n",
    "\n",
    "        entries = np.random.choice(np.array(range(0, between_generation_lim + 1)), size = 1)[0]\n",
    "        dsts    = np.random.choice(np.unique(dst_nodes), size = entries, replace = False)\n",
    "        for d in dsts:\n",
    "            src.append(_src)\n",
    "            dst.append(d)\n",
    "\n",
    "    df_b = pd.DataFrame(list(zip(src, dst)), columns = [\"src\", \"dst\"])\n",
    "    df_b['weight'] = 1\n",
    "\n",
    "    swap_cond = df_b.src > df_b.dst\n",
    "    df_b.loc[swap_cond, ['src', 'dst']] = df_b.loc[swap_cond, ['dst', 'src']].values\n",
    "    df_b = df_b.groupby([df_b['src'], df_b['dst']], as_index = False).aggregate('sum')\n",
    "    df_b['weight'] = 0.1\n",
    "\n",
    "    for _i in df_b.index:\n",
    "        df_b.loc[_i, 'weight'] += np.random.choice(np.array(range(1, max_weight + 1)), size = 1)[0]  \n",
    "\n",
    "    # for each \n",
    "    for proc_src, proc_dst, proc_b in zip(p_s, p_d, p_b):\n",
    "\n",
    "        # get the base of the clusters\n",
    "        b_source = df_source.copy()\n",
    "        b_dest   = df_destination.copy()\n",
    "        b_b      = df_b.copy()\n",
    "        \n",
    "        idx = np.random.choice(np.array(range(0, len(b_source))), size = int(proc_src * len(b_source)), replace = False)\n",
    "        for index in idx:\n",
    "            b_source.loc[index, 'weight'] = 0.1\n",
    "\n",
    "        idx = np.random.choice(np.array(range(0, len(b_dest))), size = int(proc_dst * len(b_dest)), replace = False)\n",
    "        for index in idx:\n",
    "            b_dest.loc[index, 'weight'] = 0.1\n",
    "\n",
    "        idx = np.random.choice(np.array(range(0, len(b_b))), size = int(proc_b * len(b_b)), replace = False)\n",
    "        for index in idx:\n",
    "            b_b.loc[index, 'weight'] = 0.1\n",
    "\n",
    "\n",
    "        # merge the dataframes and compute the eigenvectors\n",
    "        df        = pd.concat([b_source, b_dest, b_b])\n",
    "        graph     = nx.from_pandas_edgelist(df, \"src\", \"dst\", edge_attr = True)\n",
    "        laplacian = nx.normalized_laplacian_matrix(graph, weight = 'weight')\n",
    "\n",
    "        try:\n",
    "            eig_vals, eig_vecs = eigsh(laplacian, k = 3, which = \"SM\")\n",
    "        except:\n",
    "            print('tolerance required')\n",
    "            eig_vals, eig_vecs = eigsh(laplacian, k = 3, which = \"SM\", tol = 1e-16)\n",
    "\n",
    "        # get the cluster indexes\n",
    "        v = []\n",
    "        cluster1 = []\n",
    "        cluster2 = []\n",
    "        idx = 0\n",
    "        for node in graph.nodes():\n",
    "            if node < nodes_in_cluster: \n",
    "                v.append('r')\n",
    "                cluster1.append(idx)\n",
    "            else:\n",
    "                v.append('b')\n",
    "                cluster2.append(idx)\n",
    "\n",
    "            idx += 1\n",
    "\n",
    "        # get the distances\n",
    "        normed = eig_vecs[:, 1:3]\n",
    "        for iter in range(0, len(normed)):\n",
    "            n = np.linalg.norm(normed[iter], ord = 2)\n",
    "            for k_column in range(0, 2):\n",
    "                normed[iter][k_column] = normed[iter][k_column] / n\n",
    "\n",
    "        xa = []\n",
    "        xb = []\n",
    "        for iter in range(0, 2):\n",
    "            xa.append(normed[cluster1, iter].mean())\n",
    "            xb.append(normed[cluster2, iter].mean())\n",
    "\n",
    "        xa = np.array(xa).reshape(1, 2)\n",
    "        xb = np.array(xb).reshape(1, 2)\n",
    "        k_between.append(cdist(xa, xb)[0][0])\n",
    "        k_cluster1.append(pdist(normed[cluster1, :]).mean())\n",
    "        k_cluster2.append(pdist(normed[cluster2, :]).mean())\n",
    "        \n",
    "    p_between.append(k_between)\n",
    "    p_cluster1.append(k_cluster1)\n",
    "    p_cluster2.append(k_cluster2)"
   ]
  },
  {
   "cell_type": "code",
   "execution_count": 258,
   "metadata": {},
   "outputs": [],
   "source": [
    "p_between  = np.array(p_between)\n",
    "p_cluster1 = np.array(p_cluster1)\n",
    "p_cluster2 = np.array(p_cluster2)\n",
    "\n",
    "avg_b  = []\n",
    "avg_c1 = []\n",
    "avg_c2 = []\n",
    "for i in range(0, len(p_between[0])):\n",
    "    avg_b.append(p_between[:, i].mean())\n",
    "    avg_c1.append(p_cluster1[:, i].mean())\n",
    "    avg_c2.append(p_cluster2[:, i].mean())"
   ]
  },
  {
   "cell_type": "code",
   "execution_count": 6,
   "metadata": {},
   "outputs": [
    {
     "data": {
      "image/png": "[encoded data removed]",
      "text/plain": [
       "<Figure size 720x360 with 1 Axes>"
      ]
     },
     "metadata": {
      "needs_background": "light"
     },
     "output_type": "display_data"
    }
   ],
   "source": [
    "plt.figure(figsize = (10, 5))\n",
    "plt.rcParams.update({'font.size': 16})\n",
    "plt.bar(x = range(0, 6), height = 100 * (avg_b[1:] / avg_b[0] - 1))\n",
    "plt.xticks(ticks = range(0, 6), labels = ['99; 0', '95; 0', '90; 0', '0; 99', '0; 95', '0; 90'])\n",
    "plt.ylabel(\"Difference [%]\")\n",
    "plt.xlabel(\"Intra; Inter percentage of dummy edges\")\n",
    "plt.title(\"Inter-cluster distance for weighted graphs\")\n",
    "plt.grid()\n",
    "\n",
    "plt.savefig(\"../plots/test_graphs/weighted/intercluster_distance.png\", bbox_inches = 'tight')"
   ]
  },
  {
   "cell_type": "code",
   "execution_count": 5,
   "metadata": {},
   "outputs": [
    {
     "data": {
      "image/png": "[encoded data removed]",
      "text/plain": [
       "<Figure size 720x360 with 1 Axes>"
      ]
     },
     "metadata": {
      "needs_background": "light"
     },
     "output_type": "display_data"
    }
   ],
   "source": [
    "plt.figure(figsize = (10, 5))\n",
    "plt.rcParams.update({'font.size': 16})\n",
    "plt.bar(x = range(0, 6), height = 100 * ((avg_c1[1:] + np.array(avg_c2[1:]))/ (avg_c1[0]  + avg_c2[0])- 1))\n",
    "plt.xticks(ticks = range(0, 6), labels = ['99; 0', '95; 0', '90; 0', '0; 99', '0; 95', '0; 90'])\n",
    "plt.ylabel(\"Difference [%]\")\n",
    "plt.xlabel(\"Intra; Inter percentage of dummy edges\")\n",
    "plt.title(\"Intra-cluster distance for weighted graphs\")\n",
    "plt.grid()\n",
    "\n",
    "plt.savefig(\"../plots/test_graphs/weighted/intracluster_distance.png\", bbox_inches = 'tight')"
   ]
  },
  {
   "cell_type": "markdown",
   "metadata": {},
   "source": [
    "## Pickle the results"
   ]
  },
  {
   "cell_type": "code",
   "execution_count": 294,
   "metadata": {},
   "outputs": [],
   "source": [
    "with open(\"../pickle/test_weighted_eigenmaps.pkl\", \"wb\") as file:\n",
    "    pkl.dump([avg_b, avg_c1, avg_c2], file)"
   ]
  }
 ],
 "metadata": {
  "kernelspec": {
   "display_name": "Python 3",
   "language": "python",
   "name": "python3"
  },
  "language_info": {
   "codemirror_mode": {
    "name": "ipython",
    "version": 3
   },
   "file_extension": ".py",
   "mimetype": "text/x-python",
   "name": "python",
   "nbconvert_exporter": "python",
   "pygments_lexer": "ipython3",
   "version": "3.7.4"
  }
 },
 "nbformat": 4,
 "nbformat_minor": 4
}
